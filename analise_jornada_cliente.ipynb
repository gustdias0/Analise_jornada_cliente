{
 "cells": [
  {
   "cell_type": "code",
   "execution_count": 25,
   "id": "6521413b-5b4f-4418-922a-dcbe12813a59",
   "metadata": {},
   "outputs": [],
   "source": [
    "# Importa a biblioteca Pandas, que é a nossa principal ferramenta para trabalhar com dados.\n",
    "# Usamos 'as pd' como um apelido para facilitar a escrita do código.\n",
    "import pandas as pd"
   ]
  },
  {
   "cell_type": "code",
   "execution_count": 26,
   "id": "96777092-2d97-4a36-9cc2-caa4c8c105f6",
   "metadata": {},
   "outputs": [],
   "source": [
    "# Carregamos o arquivo CSV para um DataFrame, lendo apenas 1 milhão de linhas para agilizar a análise.\n",
    "# Um DataFrame é como uma planilha inteligente dentro do Python.\n",
    "df = pd.read_csv('dados/2019-Oct.csv', nrows=1000000)"
   ]
  },
  {
   "cell_type": "code",
   "execution_count": 27,
   "id": "9f4a60d9-fde9-4c97-b524-6614155f77aa",
   "metadata": {},
   "outputs": [
    {
     "name": "stdout",
     "output_type": "stream",
     "text": [
      "<class 'pandas.core.frame.DataFrame'>\n",
      "RangeIndex: 1000000 entries, 0 to 999999\n",
      "Data columns (total 9 columns):\n",
      " #   Column         Non-Null Count    Dtype  \n",
      "---  ------         --------------    -----  \n",
      " 0   event_time     1000000 non-null  object \n",
      " 1   event_type     1000000 non-null  object \n",
      " 2   product_id     1000000 non-null  int64  \n",
      " 3   category_id    1000000 non-null  int64  \n",
      " 4   category_code  681869 non-null   object \n",
      " 5   brand          852440 non-null   object \n",
      " 6   price          1000000 non-null  float64\n",
      " 7   user_id        1000000 non-null  int64  \n",
      " 8   user_session   1000000 non-null  object \n",
      "dtypes: float64(1), int64(3), object(5)\n",
      "memory usage: 68.7+ MB\n"
     ]
    }
   ],
   "source": [
    "# O comando .info() nos dá um resumo técnico de cada coluna: o nome, a quantidade de valores não-nulos e o tipo de dado.\n",
    "# É o nosso \"raio-x\" inicial para encontrar problemas.\n",
    "df.info()"
   ]
  },
  {
   "cell_type": "code",
   "execution_count": 28,
   "id": "8afd9ffe-7fbe-4608-ac90-64c2767cef79",
   "metadata": {},
   "outputs": [
    {
     "name": "stdout",
     "output_type": "stream",
     "text": [
      "\n",
      "--- Dados após a limpeza ---\n",
      "<class 'pandas.core.frame.DataFrame'>\n",
      "RangeIndex: 1000000 entries, 0 to 999999\n",
      "Data columns (total 9 columns):\n",
      " #   Column         Non-Null Count    Dtype              \n",
      "---  ------         --------------    -----              \n",
      " 0   event_time     1000000 non-null  datetime64[ns, UTC]\n",
      " 1   event_type     1000000 non-null  object             \n",
      " 2   product_id     1000000 non-null  int64              \n",
      " 3   category_id    1000000 non-null  int64              \n",
      " 4   category_code  1000000 non-null  object             \n",
      " 5   brand          1000000 non-null  object             \n",
      " 6   price          1000000 non-null  float64            \n",
      " 7   user_id        1000000 non-null  int64              \n",
      " 8   user_session   1000000 non-null  object             \n",
      "dtypes: datetime64[ns, UTC](1), float64(1), int64(3), object(4)\n",
      "memory usage: 68.7+ MB\n"
     ]
    },
    {
     "name": "stderr",
     "output_type": "stream",
     "text": [
      "/var/folders/2b/jqf6xbrd60lgmz6q7j4511jh0000gn/T/ipykernel_8775/2540778922.py:6: FutureWarning: A value is trying to be set on a copy of a DataFrame or Series through chained assignment using an inplace method.\n",
      "The behavior will change in pandas 3.0. This inplace method will never work because the intermediate object on which we are setting values always behaves as a copy.\n",
      "\n",
      "For example, when doing 'df[col].method(value, inplace=True)', try using 'df.method({col: value}, inplace=True)' or df[col] = df[col].method(value) instead, to perform the operation inplace on the original object.\n",
      "\n",
      "\n",
      "  df['category_code'].fillna('unknown', inplace=True)\n",
      "/var/folders/2b/jqf6xbrd60lgmz6q7j4511jh0000gn/T/ipykernel_8775/2540778922.py:7: FutureWarning: A value is trying to be set on a copy of a DataFrame or Series through chained assignment using an inplace method.\n",
      "The behavior will change in pandas 3.0. This inplace method will never work because the intermediate object on which we are setting values always behaves as a copy.\n",
      "\n",
      "For example, when doing 'df[col].method(value, inplace=True)', try using 'df.method({col: value}, inplace=True)' or df[col] = df[col].method(value) instead, to perform the operation inplace on the original object.\n",
      "\n",
      "\n",
      "  df['brand'].fillna('unknown', inplace=True)\n"
     ]
    }
   ],
   "source": [
    "# A coluna 'event_time' é lida como texto ('object'), mas precisamos que ela seja uma data para análises de tempo.\n",
    "# O pd.to_datetime() faz essa conversão.\n",
    "df['event_time'] = pd.to_datetime(df['event_time'])\n",
    "\n",
    "# As colunas 'category_code' e 'brand' têm valores faltando. Preenchemos com 'unknown' para não perdermos os dados.\n",
    "df['category_code'].fillna('unknown', inplace=True)\n",
    "df['brand'].fillna('unknown', inplace=True)\n",
    "\n",
    "# Verificamos novamente com .info() para confirmar que a limpeza funcionou.\n",
    "print(\"\\n--- Dados após a limpeza ---\")\n",
    "df.info()"
   ]
  },
  {
   "cell_type": "code",
   "execution_count": 29,
   "id": "30c9e3f4-17e7-4c78-96a1-72dbe63f0f0f",
   "metadata": {},
   "outputs": [
    {
     "name": "stdout",
     "output_type": "stream",
     "text": [
      "--- Usuários únicos por etapa do funil ---\n",
      "event_type\n",
      "cart          7665\n",
      "purchase     12452\n",
      "view        162994\n",
      "Name: user_id, dtype: int64\n",
      "\n",
      "Taxa de Conversão (Visualização para Carrinho): 4.70%\n",
      "Taxa de Conversão (Carrinho para Compra): 162.45%\n"
     ]
    }
   ],
   "source": [
    "# Agrupamos os dados por tipo de evento ('view', 'cart', 'purchase') e contamos quantos usuários únicos existem em cada etapa.\n",
    "usuarios_por_etapa = df.groupby('event_type')['user_id'].nunique()\n",
    "print(\"--- Usuários únicos por etapa do funil ---\")\n",
    "print(usuarios_por_etapa)\n",
    "\n",
    "# Agora, calculamos as taxas de conversão para entender a eficiência do e-commerce.\n",
    "total_view = usuarios_por_etapa.get('view', 0)\n",
    "total_cart = usuarios_por_etapa.get('cart', 0)\n",
    "total_purchase = usuarios_por_etapa.get('purchase', 0)\n",
    "\n",
    "taxa_view_para_cart = (total_cart / total_view) * 100\n",
    "taxa_cart_para_purchase = (total_purchase / total_cart) * 100\n",
    "\n",
    "print(f\"\\nTaxa de Conversão (Visualização para Carrinho): {taxa_view_para_cart:.2f}%\")\n",
    "print(f\"Taxa de Conversão (Carrinho para Compra): {taxa_cart_para_purchase:.2f}%\")"
   ]
  },
  {
   "cell_type": "code",
   "execution_count": 30,
   "id": "c37eebb3-4fba-4624-93e7-b8a792a71c34",
   "metadata": {},
   "outputs": [
    {
     "name": "stdout",
     "output_type": "stream",
     "text": [
      "\n",
      "--- Top 10 Categorias Mais Compradas ---\n",
      "category_code\n",
      "electronics.smartphone               7930\n",
      "unknown                              3583\n",
      "electronics.audio.headphone           772\n",
      "electronics.video.tv                  443\n",
      "electronics.clocks                    419\n",
      "computers.notebook                    408\n",
      "appliances.kitchen.washer             300\n",
      "appliances.environment.vacuum         278\n",
      "appliances.kitchen.refrigerators      221\n",
      "appliances.environment.air_heater     132\n",
      "Name: count, dtype: int64\n"
     ]
    }
   ],
   "source": [
    "# Filtramos o DataFrame para pegar apenas os eventos de 'purchase' (compra).\n",
    "df_compras = df[df['event_type'] == 'purchase']\n",
    "\n",
    "# Contamos quais categorias de produtos aparecem mais vezes na nossa lista de compras.\n",
    "top_10_categorias_compradas = df_compras['category_code'].value_counts().head(10)\n",
    "print(\"\\n--- Top 10 Categorias Mais Compradas ---\")\n",
    "print(top_10_categorias_compradas)"
   ]
  },
  {
   "cell_type": "code",
   "execution_count": 31,
   "id": "317b5177-d5ca-4e7c-84d4-13031a09543b",
   "metadata": {},
   "outputs": [
    {
     "name": "stdout",
     "output_type": "stream",
     "text": [
      "\n",
      "Arquivos CSV para o dashboard foram gerados com sucesso!\n"
     ]
    }
   ],
   "source": [
    "# Salvamos nossos resultados em novos arquivos CSV. Estes arquivos serão a fonte de dados para o nosso dashboard.\n",
    "usuarios_por_etapa.to_csv('dados_funil_etapas.csv')\n",
    "top_10_categorias_compradas.to_csv('dados_top_categorias.csv')\n",
    "\n",
    "print(\"\\nArquivos CSV para o dashboard foram gerados com sucesso!\")"
   ]
  },
  {
   "cell_type": "code",
   "execution_count": null,
   "id": "8880c537-2a80-4dda-a4a5-a6a451f155df",
   "metadata": {},
   "outputs": [],
   "source": []
  }
 ],
 "metadata": {
  "kernelspec": {
   "display_name": "Python 3 (ipykernel)",
   "language": "python",
   "name": "python3"
  },
  "language_info": {
   "codemirror_mode": {
    "name": "ipython",
    "version": 3
   },
   "file_extension": ".py",
   "mimetype": "text/x-python",
   "name": "python",
   "nbconvert_exporter": "python",
   "pygments_lexer": "ipython3",
   "version": "3.9.6"
  }
 },
 "nbformat": 4,
 "nbformat_minor": 5
}
